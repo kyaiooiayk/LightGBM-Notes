{
 "cells": [
  {
   "cell_type": "markdown",
   "metadata": {
    "toc": true
   },
   "source": [
    "<h1>Table of Contents<span class=\"tocSkip\"></span></h1>\n",
    "<div class=\"toc\"><ul class=\"toc-item\"><li><span><a href=\"#Introduction\" data-toc-modified-id=\"Introduction-1\"><span class=\"toc-item-num\">1&nbsp;&nbsp;</span>Introduction</a></span></li><li><span><a href=\"#Theoretical-recal:-training-vs.-validation-loss\" data-toc-modified-id=\"Theoretical-recal:-training-vs.-validation-loss-2\"><span class=\"toc-item-num\">2&nbsp;&nbsp;</span>Theoretical recal: training vs. validation loss</a></span></li><li><span><a href=\"#Import-modules\" data-toc-modified-id=\"Import-modules-3\"><span class=\"toc-item-num\">3&nbsp;&nbsp;</span>Import modules</a></span></li><li><span><a href=\"#Create-dataset\" data-toc-modified-id=\"Create-dataset-4\"><span class=\"toc-item-num\">4&nbsp;&nbsp;</span>Create dataset</a></span></li><li><span><a href=\"#Split-the-dataset\" data-toc-modified-id=\"Split-the-dataset-5\"><span class=\"toc-item-num\">5&nbsp;&nbsp;</span>Split the dataset</a></span></li><li><span><a href=\"#Plotting-helper-functions\" data-toc-modified-id=\"Plotting-helper-functions-6\"><span class=\"toc-item-num\">6&nbsp;&nbsp;</span>Plotting helper functions</a></span></li><li><span><a href=\"#Assymetric-Custom-Loss\" data-toc-modified-id=\"Assymetric-Custom-Loss-7\"><span class=\"toc-item-num\">7&nbsp;&nbsp;</span>Assymetric Custom Loss</a></span></li><li><span><a href=\"#Modelling\" data-toc-modified-id=\"Modelling-8\"><span class=\"toc-item-num\">8&nbsp;&nbsp;</span>Modelling</a></span><ul class=\"toc-item\"><li><ul class=\"toc-item\"><li><span><a href=\"#Random-Forest\" data-toc-modified-id=\"Random-Forest-8.0.1\"><span class=\"toc-item-num\">8.0.1&nbsp;&nbsp;</span>Random Forest</a></span></li><li><span><a href=\"#Default-LightGBM\" data-toc-modified-id=\"Default-LightGBM-8.0.2\"><span class=\"toc-item-num\">8.0.2&nbsp;&nbsp;</span>Default LightGBM</a></span><ul class=\"toc-item\"><li><span><a href=\"#LightGBM-default:-MSE\" data-toc-modified-id=\"LightGBM-default:-MSE-8.0.2.1\"><span class=\"toc-item-num\">8.0.2.1&nbsp;&nbsp;</span>LightGBM default: MSE</a></span></li><li><span><a href=\"#LightGBM-default:-MSE-+-early-stopping\" data-toc-modified-id=\"LightGBM-default:-MSE-+-early-stopping-8.0.2.2\"><span class=\"toc-item-num\">8.0.2.2&nbsp;&nbsp;</span>LightGBM default: MSE + early stopping</a></span></li><li><span><a href=\"#LightGBM-custom-objective\" data-toc-modified-id=\"LightGBM-custom-objective-8.0.2.3\"><span class=\"toc-item-num\">8.0.2.3&nbsp;&nbsp;</span>LightGBM custom objective</a></span></li><li><span><a href=\"#LightGBM_early_boosting-custom-eval_metric\" data-toc-modified-id=\"LightGBM_early_boosting-custom-eval_metric-8.0.2.4\"><span class=\"toc-item-num\">8.0.2.4&nbsp;&nbsp;</span>LightGBM_early_boosting custom eval_metric</a></span></li><li><span><a href=\"#LightGBM_early_boosting-custom-objective\" data-toc-modified-id=\"LightGBM_early_boosting-custom-objective-8.0.2.5\"><span class=\"toc-item-num\">8.0.2.5&nbsp;&nbsp;</span>LightGBM_early_boosting custom objective</a></span></li><li><span><a href=\"#LightGBM_early_boosting-custom-eval_metric-+-objective\" data-toc-modified-id=\"LightGBM_early_boosting-custom-eval_metric-+-objective-8.0.2.6\"><span class=\"toc-item-num\">8.0.2.6&nbsp;&nbsp;</span>LightGBM_early_boosting custom eval_metric + objective</a></span></li></ul></li></ul></li></ul></li><li><span><a href=\"#Post-processing\" data-toc-modified-id=\"Post-processing-9\"><span class=\"toc-item-num\">9&nbsp;&nbsp;</span>Post-processing</a></span></li><li><span><a href=\"#Conclusions\" data-toc-modified-id=\"Conclusions-10\"><span class=\"toc-item-num\">10&nbsp;&nbsp;</span>Conclusions</a></span></li><li><span><a href=\"#References\" data-toc-modified-id=\"References-11\"><span class=\"toc-item-num\">11&nbsp;&nbsp;</span>References</a></span></li></ul></div>"
   ]
  },
  {
   "cell_type": "markdown",
   "metadata": {},
   "source": [
    "# Introduction\n",
    "<hr style = \"border:2px solid black\" ></hr>"
   ]
  },
  {
   "cell_type": "markdown",
   "metadata": {},
   "source": [
    "<div class=\"alert alert-warning\">\n",
    "<font color=black>\n",
    "\n",
    "**What?** How to implement a custom loss funciton in LightGBM\n",
    "\n",
    "</font>\n",
    "</div>"
   ]
  },
  {
   "cell_type": "markdown",
   "metadata": {},
   "source": [
    "# Theoretical recal: training vs. validation loss\n",
    "<hr style = \"border:2px solid black\" ></hr>"
   ]
  },
  {
   "cell_type": "markdown",
   "metadata": {},
   "source": [
    "<div class=\"alert alert-info\">\n",
    "<font color=black>\n",
    "\n",
    "- **Training loss**: This is the function that is optimized on the training data. For example, in a neural network binary classifier, this is usually the binary cross entropy. For the random forest classifier, this is the Gini impurity. The training loss is often called the “objective function” as well.\n",
    "- **Validation loss**: This is the function that we use to evaluate the performance of our trained model on unseen data. This is often not the same as the training loss. For example, in the case of a classifier, this is often the area under the curve of the receiver operating characteristic (ROC) — though this is never directly optimized, because it is not differentiable. This is often called the “performance or evaluation metric”. **More importantly:** The validation loss is used to tune hyper-parameters. It is often easier to customize, as it doesn’t have as many functional requirements like the training loss does. The validation loss can be non-convex, non-differentiable, and discontinuous. For this reason, it is often an easier place to start with customization.\n",
    "\n",
    "</font>\n",
    "</div>"
   ]
  },
  {
   "cell_type": "markdown",
   "metadata": {},
   "source": [
    "# Import modules\n",
    "<hr style = \"border:2px solid black\" ></hr>"
   ]
  },
  {
   "cell_type": "code",
   "execution_count": 2,
   "metadata": {},
   "outputs": [],
   "source": [
    "import pandas as pd\n",
    "import numpy as np\n",
    "import matplotlib.pyplot as plt\n",
    "from lightgbm import LGBMRegressor\n",
    "import lightgbm \n",
    "from sklearn.datasets import make_friedman2, make_friedman1, make_regression\n",
    "from sklearn.model_selection import train_test_split\n",
    "from sklearn.ensemble import RandomForestRegressor\n",
    "import lightgbm\n",
    "from sklearn.metrics import mean_squared_error\n",
    "import seaborn as sns; sns.set()\n",
    "from sklearn.ensemble import RandomForestRegressor\n",
    "from sklearn.metrics import mean_absolute_error, mean_squared_error\n",
    "sns.set_style(\"whitegrid\", {'axes.grid' : False})"
   ]
  },
  {
   "cell_type": "markdown",
   "metadata": {},
   "source": [
    "# Create dataset\n",
    "<hr style = \"border:2px solid black\" ></hr>"
   ]
  },
  {
   "cell_type": "markdown",
   "metadata": {},
   "source": [
    " <div class=\"alert alert-info\">\n",
    "<font color=black>\n",
    "\n",
    "- Friendman dataset with 8,000 training observations, 2,000 validation observations, and 5,000 test observations. \n",
    "- **Why validation set?** The validation set is used to find the best set of hyperparameters that optimize our validation loss.\n",
    "- Inputs X are independent features uniformly distributed on the interval [0, 1]. The output y is created according to the formula:   \n",
    "`y(X) = 10 * sin(pi * X[:, 0] * X[:, 1]) + 20 * (X[:, 2] - 0.5) ** 2 + 10 * X[:, 3] + 5 * X[:, 4] + noise * N(0, 1).`\n",
    "- Out of the n_features features, only 5 are actually used to compute y. The remaining features are independent of y.\n",
    "\n",
    "</font>\n",
    "</div>"
   ]
  },
  {
   "cell_type": "code",
   "execution_count": 13,
   "metadata": {},
   "outputs": [],
   "source": [
    "# simulating 10,000 data points with 2 useless and 5 uniformly distributed features\n",
    "X, y = make_friedman1(n_samples=10000, n_features=7, noise=0.0, random_state=11)"
   ]
  },
  {
   "cell_type": "code",
   "execution_count": 14,
   "metadata": {},
   "outputs": [
    {
     "data": {
      "text/plain": [
       "(0.3545368892371061, 28.516918961287963)"
      ]
     },
     "execution_count": 14,
     "metadata": {},
     "output_type": "execute_result"
    }
   ],
   "source": [
    "min(y), max(y) "
   ]
  },
  {
   "cell_type": "code",
   "execution_count": 15,
   "metadata": {},
   "outputs": [
    {
     "data": {
      "image/png": "[encoded data removed]",
      "text/plain": [
       "<Figure size 432x288 with 1 Axes>"
      ]
     },
     "metadata": {},
     "output_type": "display_data"
    }
   ],
   "source": [
    "# distribution of target variable\n",
    "h = plt.hist(y)"
   ]
  },
  {
   "cell_type": "markdown",
   "metadata": {},
   "source": [
    "# Split the dataset\n",
    "<hr style = \"border:2px solid black\" ></hr>"
   ]
  },
  {
   "cell_type": "code",
   "execution_count": 21,
   "metadata": {},
   "outputs": [],
   "source": [
    "# train-validation split\n",
    "X_train, X_valid, y_train, y_valid = train_test_split(X, y, test_size=0.20, random_state=42)"
   ]
  },
  {
   "cell_type": "code",
   "execution_count": 22,
   "metadata": {},
   "outputs": [],
   "source": [
    "# test set for generalization of scores\n",
    "X_test, y_test = make_friedman1(n_samples=5000, n_features=7, noise=0.0, random_state=21)"
   ]
  },
  {
   "cell_type": "markdown",
   "metadata": {},
   "source": [
    "# Plotting helper functions\n",
    "<hr style = \"border:2px solid black\" ></hr>"
   ]
  },
  {
   "cell_type": "code",
   "execution_count": 23,
   "metadata": {},
   "outputs": [],
   "source": [
    "def plot_residual_distribution(model):\n",
    "    \"\"\"\n",
    "    Density plot of residuals (y_true - y_pred) for testation set for given model \n",
    "    \"\"\"\n",
    "    ax = sns.distplot(y_test - model.predict(X_test), hist = False, kde = True,\n",
    "                 kde_kws = {'shade': True, 'linewidth': 3}, axlabel=\"Residual\")\n",
    "    title = ax.set_title('Kernel density of residuals', size=15)"
   ]
  },
  {
   "cell_type": "code",
   "execution_count": 24,
   "metadata": {},
   "outputs": [],
   "source": [
    "def plot_scatter_pred_actual(model):\n",
    "    \"\"\"\n",
    "    Scatter plot of predictions from given model vs true target variable from testation set\n",
    "    \"\"\"\n",
    "    ax = sns.scatterplot(x=model.predict(X_test), y = y_test)\n",
    "    ax.set_xlabel('Predictions')\n",
    "    ax.set_ylabel('Actuals')\n",
    "    title = ax.set_title('Actual vs Prediction scatter plot', size=15)    "
   ]
  },
  {
   "cell_type": "markdown",
   "metadata": {},
   "source": [
    "# Assymetric Custom Loss\n",
    "<hr style = \"border:2px solid black\" ></hr>"
   ]
  },
  {
   "cell_type": "markdown",
   "metadata": {},
   "source": [
    "<div class=\"alert alert-info\">\n",
    "<font color=black>\n",
    "\n",
    "- In sklearn wrapper around LightGBM API: [1] objective: default parameter in model()and [2] eval_metric in model.fit() <br>\n",
    "- Let's say that we don't want our model to overpredict, but we are fine with underpredictions. \n",
    "- We can make a custom loss which gives 10 times more penalty when the true targets.\n",
    "- **NOTE THAT**: The behaviour of gradient of custom loss is as per our expecation. The slope has a little higher value when the residual is negative as compared to when it is positive\n",
    "\n",
    "</font>\n",
    "</div>"
   ]
  },
  {
   "cell_type": "code",
   "execution_count": 9,
   "metadata": {},
   "outputs": [],
   "source": [
    "def custom_asymmetric_objective(y_true, y_pred):\n",
    "    residual = (y_true - y_pred).astype(\"float\")\n",
    "    grad = np.where(residual < 0, -2*10.0*residual, -2*residual)\n",
    "    hess = np.where(residual < 0, 2*10.0, 2.0)\n",
    "    return grad, hess\n",
    "\n",
    "\n",
    "def custom_asymmetric_eval(y_true, y_pred):\n",
    "    residual = (y_true - y_pred).astype(\"float\")\n",
    "    loss = np.where(residual < 0, (residual**2)*10.0, residual**2)\n",
    "    return \"custom_asymmetric_eval\", np.mean(loss), False"
   ]
  },
  {
   "cell_type": "code",
   "execution_count": null,
   "metadata": {},
   "outputs": [],
   "source": [
    "# let's see how our custom loss function looks with respect to different prediction values\n",
    "\n",
    "y_true = np.repeat(0, 1000)\n",
    "y_pred = np.linspace(-100, 100, 1000)\n",
    "residual = (y_true - y_pred).astype(\"float\")\n",
    "\n",
    "custom_loss = np.where(residual < 0, (residual**2)*10.0, residual**2)\n",
    "\n",
    "fig, ax = plt.subplots(1, 1, figsize=(8, 4))\n",
    "sns.lineplot(y_pred, custom_loss, alpha=1, label=\"asymmetric mse\")\n",
    "sns.lineplot(y_pred, residual**2, alpha=0.5,\n",
    "             label=\"symmetric mse\", color=\"red\")\n",
    "ax.set_xlabel(\"Predictions\")\n",
    "ax.set_ylabel(\"Loss value\")\n",
    "fig.tight_layout()"
   ]
  },
  {
   "cell_type": "code",
   "execution_count": 46,
   "metadata": {},
   "outputs": [
    {
     "data": {
      "image/png": "[encoded data removed]",
      "text/plain": [
       "<Figure size 576x288 with 1 Axes>"
      ]
     },
     "metadata": {},
     "output_type": "display_data"
    }
   ],
   "source": [
    "grad, hess = custom_asymmetric_objective(y_true, y_pred)\n",
    "\n",
    "fig, ax = plt.subplots(1,1, figsize=(8,4))\n",
    "\n",
    "# ax.plot(y_hat, errors)\n",
    "ax.plot(y_pred, grad)\n",
    "ax.plot(y_pred, hess)\n",
    "ax.legend(('gradient', 'hessian'))\n",
    "ax.set_xlabel('Predictions')\n",
    "ax.set_ylabel('first or second derivates')\n",
    "\n",
    "fig.tight_layout()"
   ]
  },
  {
   "cell_type": "markdown",
   "metadata": {},
   "source": [
    "# Modelling\n",
    "<hr style = \"border:2px solid black\" ></hr>"
   ]
  },
  {
   "cell_type": "markdown",
   "metadata": {},
   "source": [
    "<div class=\"alert alert-info\">\n",
    "<font color=black>\n",
    "\n",
    "- We are going to try 6 models:\n",
    "    - Random forest\n",
    "    - LightGBM in its default settings\n",
    "    - LightGBM + custom training loss\n",
    "    - LightGBM + early stopping \n",
    "    - LightGBM + early stopping + custom loss\n",
    "    - LightGBM + early stopping + custom loss + custom evaluation loss\n",
    "\n",
    "</font>\n",
    "</div>"
   ]
  },
  {
   "cell_type": "markdown",
   "metadata": {},
   "source": [
    "### Random Forest"
   ]
  },
  {
   "cell_type": "code",
   "execution_count": 40,
   "metadata": {},
   "outputs": [
    {
     "data": {
      "text/plain": [
       "RandomForestRegressor(random_state=33)"
      ]
     },
     "execution_count": 40,
     "metadata": {},
     "output_type": "execute_result"
    }
   ],
   "source": [
    "# basic random forest regressor with mse as criterion to measure the quality of split\n",
    "#rf = RandomForestRegressor(n_estimators=50, oob_score=True, random_state=33)\n",
    "rf = RandomForestRegressor(random_state=33)\n",
    "rf.fit(X_train, y_train)"
   ]
  },
  {
   "cell_type": "code",
   "execution_count": null,
   "metadata": {},
   "outputs": [],
   "source": [
    "# distribution of residual\n",
    "plot_residual_distribution(rf)"
   ]
  },
  {
   "cell_type": "code",
   "execution_count": 42,
   "metadata": {},
   "outputs": [
    {
     "data": {
      "image/png": "[encoded data removed]",
      "text/plain": [
       "<Figure size 432x288 with 1 Axes>"
      ]
     },
     "metadata": {},
     "output_type": "display_data"
    }
   ],
   "source": [
    "plot_scatter_pred_actual(rf)"
   ]
  },
  {
   "cell_type": "code",
   "execution_count": 43,
   "metadata": {},
   "outputs": [
    {
     "name": "stdout",
     "output_type": "stream",
     "text": [
      "MSE is 1.064593851801584\n"
     ]
    }
   ],
   "source": [
    "print(f\"MSE is {mean_squared_error(y_test, rf.predict(X_test))}\")"
   ]
  },
  {
   "cell_type": "markdown",
   "metadata": {},
   "source": [
    "### Default LightGBM"
   ]
  },
  {
   "cell_type": "markdown",
   "metadata": {},
   "source": [
    "#### LightGBM default: MSE\n"
   ]
  },
  {
   "cell_type": "code",
   "execution_count": 38,
   "metadata": {},
   "outputs": [
    {
     "name": "stdout",
     "output_type": "stream",
     "text": [
      "MSE is 0.2362458093307746\n"
     ]
    }
   ],
   "source": [
    "# make new model on new value\n",
    "gbm = lightgbm.LGBMRegressor(random_state=33)\n",
    "gbm.fit(X_train,y_train)\n",
    "\n",
    "print(f\"MSE is {mean_squared_error(y_test, gbm.predict(X_test))}\")"
   ]
  },
  {
   "cell_type": "markdown",
   "metadata": {},
   "source": [
    "We see that GBM has performed a better than random forest model for our validation MSE score"
   ]
  },
  {
   "cell_type": "markdown",
   "metadata": {},
   "source": [
    "#### LightGBM default: MSE + early stopping\n"
   ]
  },
  {
   "cell_type": "code",
   "execution_count": null,
   "metadata": {},
   "outputs": [],
   "source": [
    "# make new model on new value\n",
    "gbm2 = lightgbm.LGBMRegressor(objective='regression',\n",
    "                              random_state=33,\n",
    "                              early_stopping_rounds=10,\n",
    "                              n_estimators=10000\n",
    "                              )\n",
    "gbm2.fit(\n",
    "    X_train,\n",
    "    y_train,\n",
    "    eval_set=[(X_valid, y_valid)],\n",
    "    eval_metric='l2',  # also the default\n",
    "    verbose=False,\n",
    ")\n",
    "\n",
    "print(f\"MSE is {mean_squared_error(y_test, gbm2.predict(X_test))}\")"
   ]
  },
  {
   "cell_type": "markdown",
   "metadata": {},
   "source": [
    "#### LightGBM custom objective "
   ]
  },
  {
   "cell_type": "code",
   "execution_count": 47,
   "metadata": {},
   "outputs": [
    {
     "data": {
      "text/plain": [
       "LGBMRegressor(metrics=['mse', 'mae'],\n",
       "              objective=<function custom_asymmetric_objective at 0x13d0a9d30>,\n",
       "              random_state=33)"
      ]
     },
     "execution_count": 47,
     "metadata": {},
     "output_type": "execute_result"
    }
   ],
   "source": [
    "# make new model on new value\n",
    "gbm3 = lightgbm.LGBMRegressor(random_state=33)\n",
    "gbm3.set_params(**{'objective': custom_asymmetric_objective},\n",
    "                metrics=[\"mse\", 'mae'])\n",
    "\n",
    "gbm3.fit(\n",
    "    X_train,\n",
    "    y_train,\n",
    "    eval_set=[(X_valid, y_valid)],\n",
    "    eval_metric='l2',\n",
    "    verbose=False,\n",
    ")"
   ]
  },
  {
   "cell_type": "markdown",
   "metadata": {},
   "source": [
    "#### LightGBM_early_boosting custom eval_metric\n"
   ]
  },
  {
   "cell_type": "code",
   "execution_count": null,
   "metadata": {},
   "outputs": [],
   "source": [
    "# make new model on new value\n",
    "gbm4 = lightgbm.LGBMRegressor(random_state=33,\n",
    "                              early_stopping_rounds=10,\n",
    "                              n_estimators=10000\n",
    "                              )\n",
    "\n",
    "gbm4.set_params(**{'objective': \"regression\"}, metrics=[\"mse\", 'mae'])\n",
    "\n",
    "gbm4.fit(\n",
    "    X_train,\n",
    "    y_train,\n",
    "    eval_set=[(X_valid, y_valid)],\n",
    "    eval_metric=custom_asymmetric_eval,\n",
    "    verbose=False,\n",
    ")"
   ]
  },
  {
   "cell_type": "markdown",
   "metadata": {},
   "source": [
    "#### LightGBM_early_boosting custom objective"
   ]
  },
  {
   "cell_type": "code",
   "execution_count": null,
   "metadata": {},
   "outputs": [],
   "source": [
    "# make new model on new value\n",
    "gbm5 = lightgbm.LGBMRegressor(random_state=33,\n",
    "                              early_stopping_rounds=10,\n",
    "                              n_estimators=10000\n",
    "                              )\n",
    "\n",
    "gbm5.set_params(**{'objective': custom_asymmetric_objective},\n",
    "                metrics=[\"mse\", 'mae'])\n",
    "\n",
    "gbm5.fit(\n",
    "    X_train,\n",
    "    y_train,\n",
    "    eval_set=[(X_valid, y_valid)],\n",
    "    eval_metric=\"l2\",\n",
    "    verbose=False,\n",
    ")"
   ]
  },
  {
   "cell_type": "markdown",
   "metadata": {},
   "source": [
    "#### LightGBM_early_boosting custom eval_metric + objective"
   ]
  },
  {
   "cell_type": "code",
   "execution_count": null,
   "metadata": {},
   "outputs": [],
   "source": [
    "# make new model on new value\n",
    "gbm6 = lightgbm.LGBMRegressor(random_state=33,\n",
    "                              early_stopping_rounds=10,\n",
    "                              n_estimators=10000\n",
    "                              )\n",
    "\n",
    "gbm6.set_params(**{'objective': custom_asymmetric_objective},\n",
    "                metrics=[\"mse\", 'mae'])\n",
    "\n",
    "gbm6.fit(\n",
    "    X_train,\n",
    "    y_train,\n",
    "    eval_set=[(X_valid, y_valid)],\n",
    "    eval_metric=custom_asymmetric_eval,\n",
    "    verbose=False,\n",
    ")"
   ]
  },
  {
   "cell_type": "markdown",
   "metadata": {},
   "source": [
    "# Post-processing\n",
    "<hr style = \"border:2px solid black\" ></hr>"
   ]
  },
  {
   "cell_type": "markdown",
   "metadata": {},
   "source": [
    "<div class=\"alert alert-info\">\n",
    "<font color=black>\n",
    "\n",
    "- **Random Forest vs. LightGBM**: Using default settings, LightGBM performs better than Random Forest on this dataset. \n",
    "- **LightGBM vs. LightGBM** with tuned early stopping rounds using MSE**: We see a big improvement in default MSE scores with just a small tweak of using early stopping rounds (MSE: 0.24 vs 0.14).    \n",
    "- **LightGBM vs. LightGBM with tuned early stopping rounds using MSE**: Both the LightGBM models are optimizing MSE. We see a big improvement in default MSE scores with just a small tweak of using early stopping rounds (MSE: 0.24 vs 0.14). So, rather than limiting the number of boosting rounds to default (i.e., 100), we should let the model decide optimal number of boosting rounds using the early stopping hyper parameter. Hyper parameter optimization matters!\n",
    "- **LightGBM with tuned early stopping rounds using MSE vs. LightGBM with tuned early stopping using custom MSE**: The scores from both of these models are very close with no material difference. This is because the the validation loss is only used to decide when to stop boosting. The gradient is optimizing default MSE in both the cases. Each subsequent tree produces same output for both of the models. The only difference is that the model with custom validation loss stops at 742 boosting iterations while the other runs for a few more\n",
    "- **LightGBM with tuned early stopping using custom MSE vs. LightGBM trained on custom loss and tuned early stopping with MSE**: Only customizing the training loss without changing the validation loss hurts the model performance. The model with only custom training loss boosts for more rounds (1848) than other cases. If we observe carefully, this model has really low training loss (0.013) and is highly overfitting on the training set. Each gradient boosting iteration makes a new tree using training errors as target variables, but the boosting stops only when loss on validation data start increasing. The validation loss usually starts increasing when the model starts overfitting, which is the signal to stop building more trees. In this case, since validation and training loss are not aligned with each other, the model doesn’t seem to “get the message” which leads to overfitting. This configuration was just included for completeness and is not something one should use in practice.\n",
    "- **LightGBM with tuned early stopping rounds with MSE vs. LightGBM trained on custom training loss and tuned early stopping rounds with customized validation loss**: The final model uses both custom training and validation losses. It gives the best asymmetric MSE score with relatively small number of boosting iterations. The losses are aligned with what we care about!\n",
    "    \n",
    "</font>\n",
    "</div>"
   ]
  },
  {
   "cell_type": "code",
   "execution_count": 52,
   "metadata": {},
   "outputs": [],
   "source": [
    "# asymmetric mse scores\n",
    "_,loss_rf,_ = custom_asymmetric_eval(y_test, rf.predict(X_test))\n",
    "_,loss_gbm,_ = custom_asymmetric_eval(y_test, gbm.predict(X_test))\n",
    "_,loss_gbm2,_ = custom_asymmetric_eval(y_test, gbm2.predict(X_test))\n",
    "_,loss_gbm3,_ = custom_asymmetric_eval(y_test, gbm3.predict(X_test))\n",
    "_,loss_gbm4,_ = custom_asymmetric_eval(y_test, gbm4.predict(X_test))\n",
    "_,loss_gbm5,_ = custom_asymmetric_eval(y_test, gbm5.predict(X_test))\n",
    "_,loss_gbm6,_ = custom_asymmetric_eval(y_test, gbm6.predict(X_test))"
   ]
  },
  {
   "cell_type": "code",
   "execution_count": 53,
   "metadata": {},
   "outputs": [],
   "source": [
    "score_dict = {'Random Forest default':\n",
    "              {'asymmetric custom mse (test)': loss_rf,\n",
    "               'asymmetric custom mse (train)': custom_asymmetric_eval(y_train, rf.predict(X_train))[1],\n",
    "               'symmetric mse': mean_squared_error(y_test, rf.predict(X_test)),\n",
    "               '# boosting rounds' : '-'},\n",
    "              \n",
    "              'LightGBM default' : \n",
    "              {'asymmetric custom mse (test)': loss_gbm,\n",
    "              'asymmetric custom mse (train)': custom_asymmetric_eval(y_train, gbm.predict(X_train))[1],\n",
    "               'symmetric mse': mean_squared_error(y_test, gbm.predict(X_test)), \n",
    "               '# boosting rounds' : gbm.booster_.current_iteration()},\n",
    "              \n",
    "              'LightGBM with custom training loss (no hyperparameter tuning)': \n",
    "              {'asymmetric custom mse (test)': loss_gbm3,\n",
    "               'asymmetric custom mse (train)': custom_asymmetric_eval(y_train, gbm3.predict(X_train))[1],               \n",
    "               'symmetric mse': mean_squared_error(y_test, gbm3.predict(X_test)),\n",
    "               '# boosting rounds' : gbm3.booster_.current_iteration()},\n",
    "              \n",
    "              'LightGBM with early stopping' : \n",
    "              {'asymmetric custom mse (test)': loss_gbm2,\n",
    "               'asymmetric custom mse (train)': custom_asymmetric_eval(y_train, gbm2.predict(X_train))[1],\n",
    "               'symmetric mse': mean_squared_error(y_test, gbm2.predict(X_test)),\n",
    "               '# boosting rounds' : gbm2.booster_.current_iteration()},\n",
    "\n",
    "             'LightGBM with early_stopping and custom validation loss': \n",
    "              {'asymmetric custom mse (test)': loss_gbm4,\n",
    "               'asymmetric custom mse (train)': custom_asymmetric_eval(y_train, gbm4.predict(X_train))[1],\n",
    "               'symmetric mse': mean_squared_error(y_test, gbm4.predict(X_test)),\n",
    "               '# boosting rounds' : gbm4.booster_.current_iteration()},\n",
    "              \n",
    "              'LightGBM with early_stopping and custom training loss': \n",
    "              {'asymmetric custom mse (test)': loss_gbm5,\n",
    "               'asymmetric custom mse (train)': custom_asymmetric_eval(y_train, gbm5.predict(X_train))[1],\n",
    "               'symmetric mse': mean_squared_error(y_test, gbm5.predict(X_test)),\n",
    "               '# boosting rounds' : gbm5.booster_.current_iteration()}, \n",
    "              \n",
    "              'LightGBM with early_stopping, custom training and custom validation loss': \n",
    "              {'asymmetric custom mse (test)': loss_gbm6,\n",
    "               'asymmetric custom mse (train)': custom_asymmetric_eval(y_train, gbm6.predict(X_train))[1],\n",
    "               'symmetric mse': mean_squared_error(y_test, gbm6.predict(X_test)),\n",
    "               '# boosting rounds' : gbm6.booster_.current_iteration()}\n",
    "             \n",
    "             }"
   ]
  },
  {
   "cell_type": "code",
   "execution_count": 54,
   "metadata": {},
   "outputs": [
    {
     "data": {
      "text/html": [
       "<div>\n",
       "<style scoped>\n",
       "    .dataframe tbody tr th:only-of-type {\n",
       "        vertical-align: middle;\n",
       "    }\n",
       "\n",
       "    .dataframe tbody tr th {\n",
       "        vertical-align: top;\n",
       "    }\n",
       "\n",
       "    .dataframe thead th {\n",
       "        text-align: right;\n",
       "    }\n",
       "</style>\n",
       "<table border=\"1\" class=\"dataframe\">\n",
       "  <thead>\n",
       "    <tr style=\"text-align: right;\">\n",
       "      <th></th>\n",
       "      <th>asymmetric custom mse (test)</th>\n",
       "      <th>asymmetric custom mse (train)</th>\n",
       "      <th>symmetric mse</th>\n",
       "      <th># boosting rounds</th>\n",
       "    </tr>\n",
       "  </thead>\n",
       "  <tbody>\n",
       "    <tr>\n",
       "      <th>Random Forest default</th>\n",
       "      <td>5.96749</td>\n",
       "      <td>0.897008</td>\n",
       "      <td>1.064594</td>\n",
       "      <td>-</td>\n",
       "    </tr>\n",
       "    <tr>\n",
       "      <th>LightGBM default</th>\n",
       "      <td>1.318521</td>\n",
       "      <td>0.628296</td>\n",
       "      <td>0.236246</td>\n",
       "      <td>100.0</td>\n",
       "    </tr>\n",
       "    <tr>\n",
       "      <th>LightGBM with custom training loss (no hyperparameter tuning)</th>\n",
       "      <td>0.839062</td>\n",
       "      <td>0.280541</td>\n",
       "      <td>0.345089</td>\n",
       "      <td>100.0</td>\n",
       "    </tr>\n",
       "    <tr>\n",
       "      <th>LightGBM with early stopping</th>\n",
       "      <td>0.783725</td>\n",
       "      <td>0.053172</td>\n",
       "      <td>0.137639</td>\n",
       "      <td>780.0</td>\n",
       "    </tr>\n",
       "    <tr>\n",
       "      <th>LightGBM with early_stopping and custom validation loss</th>\n",
       "      <td>0.78697</td>\n",
       "      <td>0.059067</td>\n",
       "      <td>0.138275</td>\n",
       "      <td>742.0</td>\n",
       "    </tr>\n",
       "    <tr>\n",
       "      <th>LightGBM with early_stopping and custom training loss</th>\n",
       "      <td>0.813875</td>\n",
       "      <td>0.032643</td>\n",
       "      <td>0.181109</td>\n",
       "      <td>898.0</td>\n",
       "    </tr>\n",
       "    <tr>\n",
       "      <th>LightGBM with early_stopping, custom training and custom validation loss</th>\n",
       "      <td>0.776099</td>\n",
       "      <td>0.182956</td>\n",
       "      <td>0.277859</td>\n",
       "      <td>172.0</td>\n",
       "    </tr>\n",
       "  </tbody>\n",
       "</table>\n",
       "</div>"
      ],
      "text/plain": [
       "                                                   asymmetric custom mse (test)  \\\n",
       "Random Forest default                                                   5.96749   \n",
       "LightGBM default                                                       1.318521   \n",
       "LightGBM with custom training loss (no hyperpar...                     0.839062   \n",
       "LightGBM with early stopping                                           0.783725   \n",
       "LightGBM with early_stopping and custom validat...                      0.78697   \n",
       "LightGBM with early_stopping and custom trainin...                     0.813875   \n",
       "LightGBM with early_stopping, custom training a...                     0.776099   \n",
       "\n",
       "                                                   asymmetric custom mse (train)  \\\n",
       "Random Forest default                                                   0.897008   \n",
       "LightGBM default                                                        0.628296   \n",
       "LightGBM with custom training loss (no hyperpar...                      0.280541   \n",
       "LightGBM with early stopping                                            0.053172   \n",
       "LightGBM with early_stopping and custom validat...                      0.059067   \n",
       "LightGBM with early_stopping and custom trainin...                      0.032643   \n",
       "LightGBM with early_stopping, custom training a...                      0.182956   \n",
       "\n",
       "                                                   symmetric mse  \\\n",
       "Random Forest default                                   1.064594   \n",
       "LightGBM default                                        0.236246   \n",
       "LightGBM with custom training loss (no hyperpar...      0.345089   \n",
       "LightGBM with early stopping                            0.137639   \n",
       "LightGBM with early_stopping and custom validat...      0.138275   \n",
       "LightGBM with early_stopping and custom trainin...      0.181109   \n",
       "LightGBM with early_stopping, custom training a...      0.277859   \n",
       "\n",
       "                                                   # boosting rounds  \n",
       "Random Forest default                                              -  \n",
       "LightGBM default                                               100.0  \n",
       "LightGBM with custom training loss (no hyperpar...             100.0  \n",
       "LightGBM with early stopping                                   780.0  \n",
       "LightGBM with early_stopping and custom validat...             742.0  \n",
       "LightGBM with early_stopping and custom trainin...             898.0  \n",
       "LightGBM with early_stopping, custom training a...             172.0  "
      ]
     },
     "execution_count": 54,
     "metadata": {},
     "output_type": "execute_result"
    }
   ],
   "source": [
    "pd.DataFrame(score_dict).T"
   ]
  },
  {
   "cell_type": "markdown",
   "metadata": {},
   "source": [
    "<div class=\"alert alert-info\">\n",
    "<font color=black>\n",
    "\n",
    "- Note that with LightGBM (even with default hyperparameters), the prediction performance improves as compared to the Random Forest model. \n",
    "- The final model with custom validation loss appears to make more predictions on the right side of histogram, i.e. the actual values are greater than the predicted values. \n",
    "- This is expected because of the asymmetric custom loss function. \n",
    "- This right sided shift of the residuals can be better visualized using a kernel density plot of the residuals.\n",
    "\n",
    "</font>\n",
    "</div>"
   ]
  },
  {
   "cell_type": "code",
   "execution_count": null,
   "metadata": {},
   "outputs": [],
   "source": [
    "fig, ax = plt.subplots(figsize=(12, 6))\n",
    "ax = sns.distplot(y_test - gbm.predict(X_test), hist=False, kde=True,\n",
    "                  kde_kws={'shade': True, 'linewidth': 3}, axlabel=\"Residual\", label=\"LightGBM with default mse\")\n",
    "ax = sns.distplot(y_test - gbm3.predict(X_test), hist=False, kde=True,\n",
    "                  kde_kws={'shade': True, 'linewidth': 3}, axlabel=\"Residual\", label=\"LightGBM with asymmetric mse\")\n",
    "\n",
    "# control x and y limits\n",
    "ax.set_xlim(-3, 3)\n",
    "\n",
    "title = ax.set_title('Kernel density plot of residuals', size=15)"
   ]
  },
  {
   "cell_type": "code",
   "execution_count": 27,
   "metadata": {},
   "outputs": [
    {
     "data": {
      "image/png": "[encoded data removed]",
      "text/plain": [
       "<Figure size 864x360 with 3 Axes>"
      ]
     },
     "metadata": {},
     "output_type": "display_data"
    }
   ],
   "source": [
    "fig, ax = plt.subplots(nrows=1, ncols=3, figsize=(12, 5))\n",
    "ax1, ax2, ax3 = ax.flatten()\n",
    "\n",
    "ax1.plot(rf.predict(X_test), y_test, 'o', color='#1c9099')\n",
    "ax1.set_xlabel('Predictions')\n",
    "ax1.set_ylabel('Actuals')\n",
    "ax1.set_title('Random Forest')\n",
    "\n",
    "ax2.plot(gbm.predict(X_test), y_test, 'o', color='#1c9099')\n",
    "ax2.set_xlabel('Predictions')\n",
    "ax2.set_ylabel('Actuals')\n",
    "ax2.set_title('LightGBM default')\n",
    "\n",
    "ax3.plot(gbm6.predict(X_test), y_test, 'o', color='#1c9099')\n",
    "ax3.set_xlabel('Predictions')\n",
    "ax3.set_ylabel('Actuals')\n",
    "ax3.set_title(\n",
    "    'LightGBM with early_stopping, \\n custom objective and custom evalution')\n",
    "\n",
    "fig.suptitle(\n",
    "    \"Scatter plots of predictions vs. actual targets for different models\", y=1.05, fontsize=15)\n",
    "fig.tight_layout()"
   ]
  },
  {
   "cell_type": "code",
   "execution_count": 56,
   "metadata": {},
   "outputs": [
    {
     "data": {
      "image/png": "[encoded data removed]",
      "text/plain": [
       "<Figure size 864x360 with 3 Axes>"
      ]
     },
     "metadata": {},
     "output_type": "display_data"
    }
   ],
   "source": [
    "fig, ax = plt.subplots(nrows=1, ncols=3, figsize=(12, 5))\n",
    "ax1, ax2, ax3 = ax.flatten()\n",
    "\n",
    "ax1.hist(y_test - rf.predict(X_test), bins=50, color='#1c9099')\n",
    "ax1.axvline(x=0, ymin=0, ymax=500, color='black', lw=1.2)\n",
    "ax1.set_xlabel('Residuals')\n",
    "ax1.set_title('Random Forest')\n",
    "ax1.set_ylabel('# observations')\n",
    "\n",
    "ax2.hist(y_test - gbm.predict(X_test), bins=50,  color='#1c9099')\n",
    "ax2.axvline(x=0, ymin=0, ymax=500, color='black', lw=1.2)\n",
    "ax2.set_xlabel('Residuals')\n",
    "ax2.set_ylabel('# observations')\n",
    "ax2.set_title('LightGBM default')\n",
    "\n",
    "ax3.hist(y_test - gbm6.predict(X_test), bins=50,  color='#1c9099')\n",
    "ax3.axvline(x=0, ymin=0, ymax=500, color='black', lw=1.2)\n",
    "ax3.set_xlabel('Residuals')\n",
    "ax3.set_ylabel('# observations')\n",
    "ax3.set_title(\n",
    "    'LightGBM with early_stopping, \\n custom objective and custom evalution')\n",
    "\n",
    "fig.suptitle(\n",
    "    \"Error histograms of predictions from different models\", y=1.05, fontsize=15)\n",
    "fig.tight_layout()"
   ]
  },
  {
   "cell_type": "markdown",
   "metadata": {},
   "source": [
    "# Conclusions\n",
    "<hr style = \"border:2px solid black\" ></hr>"
   ]
  },
  {
   "cell_type": "markdown",
   "metadata": {},
   "source": [
    "<div class=\"alert alert-danger\">\n",
    "<font color=black>\n",
    "\n",
    "- In certain scenarios, we intentionally want our model to **bias** our errors in a certain direction, depending on which errors are more costly. \n",
    "\n",
    "</font>\n",
    "</div>"
   ]
  },
  {
   "cell_type": "markdown",
   "metadata": {},
   "source": [
    "# References\n",
    "<hr style = \"border:2px solid black\" ></hr>"
   ]
  },
  {
   "cell_type": "markdown",
   "metadata": {},
   "source": [
    "<div class=\"alert alert-warning\">\n",
    "<font color=black>\n",
    "\n",
    "- [Article](https://towardsdatascience.com/custom-loss-functions-for-gradient-boosting-f79c1b40466d)\n",
    "- [Code](https://github.com/manifoldai/mf-eng-public/blob/master/notebooks/custom_loss_lightgbm.ipynb)\n",
    "\n",
    "</font>\n",
    "</div>"
   ]
  },
  {
   "cell_type": "code",
   "execution_count": null,
   "metadata": {},
   "outputs": [],
   "source": []
  }
 ],
 "metadata": {
  "hide_input": false,
  "kernelspec": {
   "display_name": "trainingAI",
   "language": "python",
   "name": "trainingai"
  },
  "language_info": {
   "codemirror_mode": {
    "name": "ipython",
    "version": 3
   },
   "file_extension": ".py",
   "mimetype": "text/x-python",
   "name": "python",
   "nbconvert_exporter": "python",
   "pygments_lexer": "ipython3",
   "version": "3.9.7"
  },
  "toc": {
   "base_numbering": 1,
   "nav_menu": {},
   "number_sections": true,
   "sideBar": true,
   "skip_h1_title": false,
   "title_cell": "Table of Contents",
   "title_sidebar": "Contents",
   "toc_cell": true,
   "toc_position": {
    "height": "calc(100% - 180px)",
    "left": "10px",
    "top": "150px",
    "width": "265px"
   },
   "toc_section_display": true,
   "toc_window_display": true
  },
  "varInspector": {
   "cols": {
    "lenName": 16,
    "lenType": 16,
    "lenVar": 40
   },
   "kernels_config": {
    "python": {
     "delete_cmd_postfix": "",
     "delete_cmd_prefix": "del ",
     "library": "var_list.py",
     "varRefreshCmd": "print(var_dic_list())"
    },
    "r": {
     "delete_cmd_postfix": ") ",
     "delete_cmd_prefix": "rm(",
     "library": "var_list.r",
     "varRefreshCmd": "cat(var_dic_list()) "
    }
   },
   "types_to_exclude": [
    "module",
    "function",
    "builtin_function_or_method",
    "instance",
    "_Feature"
   ],
   "window_display": false
  }
 },
 "nbformat": 4,
 "nbformat_minor": 2
}
